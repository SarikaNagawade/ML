{
 "cells": [
  {
   "cell_type": "markdown",
   "metadata": {},
   "source": [
    "###  Spam Email Classifier using Support Vector Machine Classifier"
   ]
  },
  {
   "cell_type": "code",
   "execution_count": 27,
   "metadata": {},
   "outputs": [],
   "source": [
    "from sklearn import svm\n",
    "from sklearn.metrics import accuracy_score"
   ]
  },
  {
   "cell_type": "code",
   "execution_count": 36,
   "metadata": {},
   "outputs": [],
   "source": [
    "TRAIN_DIR = \"train-mails\"\n",
    "TEST_DIR = \"test-mails\"\n",
    "def make_dictionary(root_dir):\n",
    "    all_words = []\n",
    "    emails = [os.path.join(root_dir, f) for f in os.listdir(root_dir)]\n",
    "    for mail in emails:\n",
    "        with open(mail) as m:\n",
    "            for line in m:\n",
    "                words = line.split()\n",
    "                all_words += words\n",
    "    dictionary = Counter(all_words)\n",
    "    #dict_copy = deepcopy(dictionary)\n",
    "    list_to_remove = list(dictionary)\n",
    "    \n",
    "    for item in list_to_remove:\n",
    "        if item.isalpha() == False:\n",
    "            del dictionary[item]\n",
    "        elif len(item) == 1:\n",
    "            del dictionary[item]\n",
    "    dictionary = dictionary.most_common(2000)\n",
    "    return dictionary\n",
    "\n",
    "def extract_features(mail_dir):\n",
    "    files = [os.path.join(mail_dir, f) for f in os.listdir(mail_dir)]\n",
    "    features_matrix = np.zeros((len(files), 2000))\n",
    "    train_labels = np.zeros(len(files))\n",
    "    count = 0\n",
    "    doc_id = 0\n",
    "    for f in files:\n",
    "        with open(f) as fi:\n",
    "            for i, line in enumerate(fi):\n",
    "                if(i == 2):\n",
    "                    words = line.split()\n",
    "                    for word in words:\n",
    "                        word_id = 0\n",
    "                        for i, d in enumerate(dictionary):\n",
    "                            if d[0] == word:\n",
    "                                word_id = i\n",
    "                                features_matrix[doc_id, word_id] = words.count(word)\n",
    "            train_labels[doc_id] = 0\n",
    "            filePathTokens = f.split('/')\n",
    "            lastToken = filePathTokens[len(filePathTokens) - 1]\n",
    "            if lastToken.__contains__(\"spmsg\"):\n",
    "                train_labels[doc_id] = 1\n",
    "                count = count + 1\n",
    "            doc_id = doc_id + 1\n",
    "    return features_matrix, train_labels"
   ]
  },
  {
   "cell_type": "code",
   "execution_count": 37,
   "metadata": {},
   "outputs": [
    {
     "name": "stdout",
     "output_type": "stream",
     "text": [
      "Reading and Processing Emails from File\n"
     ]
    }
   ],
   "source": [
    "dictionary = make_dictionary(TRAIN_DIR)\n",
    "print('Reading and Processing Emails from File')"
   ]
  },
  {
   "cell_type": "code",
   "execution_count": null,
   "metadata": {},
   "outputs": [],
   "source": [
    "# for now, decrease the training time, by decraesing training data\n",
    "# features_matrix = features_matrix(:len(features_matrix)/10)\n",
    "# labels = labels(:len(labels)/10)"
   ]
  },
  {
   "cell_type": "code",
   "execution_count": 38,
   "metadata": {},
   "outputs": [],
   "source": [
    "features_matrix, labels = extract_features(TRAIN_DIR)\n",
    "test_features_matrix, test_labels = extract_features(TEST_DIR)"
   ]
  },
  {
   "cell_type": "code",
   "execution_count": 68,
   "metadata": {},
   "outputs": [
    {
     "name": "stdout",
     "output_type": "stream",
     "text": [
      "Training model\n"
     ]
    },
    {
     "name": "stderr",
     "output_type": "stream",
     "text": [
      "C:\\Users\\Prashant\\Anaconda3\\lib\\site-packages\\sklearn\\svm\\base.py:193: FutureWarning: The default value of gamma will change from 'auto' to 'scale' in version 0.22 to account better for unscaled features. Set gamma explicitly to 'auto' or 'scale' to avoid this warning.\n"
     ]
    },
    {
     "name": "stdout",
     "output_type": "stream",
     "text": [
      "Accuracy Score\n"
     ]
    },
    {
     "data": {
      "text/plain": [
       "0.8576923076923076"
      ]
     },
     "execution_count": 68,
     "metadata": {},
     "output_type": "execute_result"
    }
   ],
   "source": [
    "# Default Params for SVC -  kernel=Linear, c = 1, gamma = 1\n",
    "model = svm.SVC()\n",
    "print('Training model')\n",
    "model.fit(features_matrix, labels)\n",
    "predicted_labels = model.predict(test_features_matrix)\n",
    "print('Accuracy Score')\n",
    "accuracy_score(test_labels, predicted_labels)"
   ]
  },
  {
   "cell_type": "markdown",
   "metadata": {},
   "source": [
    "## Parameter Tuning"
   ]
  },
  {
   "cell_type": "code",
   "execution_count": 60,
   "metadata": {},
   "outputs": [
    {
     "name": "stderr",
     "output_type": "stream",
     "text": [
      "C:\\Users\\Prashant\\Anaconda3\\lib\\site-packages\\sklearn\\svm\\base.py:193: FutureWarning: The default value of gamma will change from 'auto' to 'scale' in version 0.22 to account better for unscaled features. Set gamma explicitly to 'auto' or 'scale' to avoid this warning.\n"
     ]
    },
    {
     "name": "stdout",
     "output_type": "stream",
     "text": [
      "Accuracy Score with RBF and C tuning\n"
     ]
    },
    {
     "data": {
      "text/plain": [
       "0.9769230769230769"
      ]
     },
     "execution_count": 60,
     "metadata": {},
     "output_type": "execute_result"
    }
   ],
   "source": [
    "model = svm.SVC(kernel='rbf', C=100) #vary C = 1, 10, 100, 1000, 10000\n",
    "model.fit(features_matrix, labels)\n",
    "predicted_labels = model.predict(test_features_matrix)\n",
    "print('Accuracy Score with RBF and C tuning')\n",
    "accuracy_score(test_labels, predicted_labels)"
   ]
  },
  {
   "cell_type": "code",
   "execution_count": 67,
   "metadata": {},
   "outputs": [
    {
     "name": "stdout",
     "output_type": "stream",
     "text": [
      "Accuracy Score with C and gamma tuning\n"
     ]
    },
    {
     "data": {
      "text/plain": [
       "0.9769230769230769"
      ]
     },
     "execution_count": 67,
     "metadata": {},
     "output_type": "execute_result"
    }
   ],
   "source": [
    "model = svm.SVC(kernel='rbf', C = 100, gamma = 0.001)  #vary gamma = 10, 1, 0.1, 0.01, 0.001, 0.0001\n",
    "model.fit(features_matrix, labels)\n",
    "predicted_labels = model.predict(test_features_matrix)\n",
    "print('Accuracy Score with C and gamma tuning')\n",
    "accuracy_score(test_labels, predicted_labels)"
   ]
  },
  {
   "cell_type": "markdown",
   "metadata": {},
   "source": [
    "#### This is the optimal Accuracy achieved with rbf kernel and C and gamma parameter tuning in SVC"
   ]
  }
 ],
 "metadata": {
  "kernelspec": {
   "display_name": "Python 3",
   "language": "python",
   "name": "python3"
  },
  "language_info": {
   "codemirror_mode": {
    "name": "ipython",
    "version": 3
   },
   "file_extension": ".py",
   "mimetype": "text/x-python",
   "name": "python",
   "nbconvert_exporter": "python",
   "pygments_lexer": "ipython3",
   "version": "3.7.3"
  }
 },
 "nbformat": 4,
 "nbformat_minor": 2
}
