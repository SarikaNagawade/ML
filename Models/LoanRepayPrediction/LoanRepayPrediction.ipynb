{
 "cells": [
  {
   "cell_type": "markdown",
   "metadata": {},
   "source": [
    "## Loan Prediction problem\n",
    "\n",
    "Here we are trying to predict whether a person will repay the loan amount or not based on multiple parameters.\n"
   ]
  },
  {
   "cell_type": "code",
   "execution_count": 1,
   "metadata": {},
   "outputs": [],
   "source": [
    "import numpy as np\n",
    "from sklearn.linear_model import LogisticRegression\n",
    "from sklearn.naive_bayes import GaussianNB\n",
    "from sklearn.ensemble import RandomForestClassifier, VotingClassifier\n",
    "import pandas as pd"
   ]
  },
  {
   "cell_type": "code",
   "execution_count": 2,
   "metadata": {},
   "outputs": [],
   "source": [
    "clf1 = LogisticRegression()\n",
    "clf2 = RandomForestClassifier()\n",
    "clf3 = GaussianNB()\n",
    "\n",
    "df=pd.read_csv(r\"train_clean_data.csv\")"
   ]
  },
  {
   "cell_type": "code",
   "execution_count": 3,
   "metadata": {},
   "outputs": [
    {
     "name": "stdout",
     "output_type": "stream",
     "text": [
      "<class 'pandas.core.frame.DataFrame'>\n",
      "RangeIndex: 517 entries, 0 to 516\n",
      "Data columns (total 15 columns):\n",
      "Unnamed: 0                 517 non-null int64\n",
      "Loan_ID                    517 non-null object\n",
      "Dependents                 517 non-null object\n",
      "ApplicantIncome            517 non-null int64\n",
      "CoapplicantIncome          517 non-null float64\n",
      "LoanAmount                 517 non-null float64\n",
      "Loan_Amount_Term           517 non-null float64\n",
      "Credit_History             517 non-null float64\n",
      "gender_Male                517 non-null int64\n",
      "married_Yes                517 non-null int64\n",
      "education_Not Graduate     517 non-null int64\n",
      "property_area_Semiurban    517 non-null int64\n",
      "property_area_Urban        517 non-null int64\n",
      "self_employed_Yes          517 non-null int64\n",
      "Loan_status_Y              517 non-null int64\n",
      "dtypes: float64(4), int64(9), object(2)\n",
      "memory usage: 60.7+ KB\n"
     ]
    }
   ],
   "source": [
    "df.info()"
   ]
  },
  {
   "cell_type": "markdown",
   "metadata": {},
   "source": [
    "## Train test Split"
   ]
  },
  {
   "cell_type": "code",
   "execution_count": 4,
   "metadata": {},
   "outputs": [],
   "source": [
    "X = df.drop(['Loan_ID','Dependents','Loan_status_Y'],axis =1 )\n",
    "y = df['Loan_status_Y']\n",
    "\n",
    "from sklearn.model_selection import train_test_split\n",
    "\n",
    "X_train, X_test, y_train, y_test = train_test_split(X, y, test_size=0.33,\n",
    "                                                    random_state=42)"
   ]
  },
  {
   "cell_type": "markdown",
   "metadata": {},
   "source": [
    "## Voting Classifier\n",
    "\n",
    "We are taking the outputs of multiple classifiers like:\n",
    "    1. Logistic Regression\n",
    "    2. Random Forest \n",
    "    3. Gausian Naive Bayes\n",
    "   \n",
    "Then take the majority votes to decide the final classification."
   ]
  },
  {
   "cell_type": "code",
   "execution_count": 5,
   "metadata": {},
   "outputs": [
    {
     "name": "stdout",
     "output_type": "stream",
     "text": [
      "              precision    recall  f1-score   support\n",
      "\n",
      "           0       0.81      0.41      0.55        41\n",
      "           1       0.84      0.97      0.90       130\n",
      "\n",
      "    accuracy                           0.84       171\n",
      "   macro avg       0.82      0.69      0.72       171\n",
      "weighted avg       0.83      0.84      0.82       171\n",
      "\n",
      "[[ 17  24]\n",
      " [  4 126]]\n"
     ]
    },
    {
     "name": "stderr",
     "output_type": "stream",
     "text": [
      "C:\\Users\\Prashant\\Anaconda3\\lib\\site-packages\\sklearn\\linear_model\\logistic.py:432: FutureWarning: Default solver will be changed to 'lbfgs' in 0.22. Specify a solver to silence this warning.\n",
      "  FutureWarning)\n",
      "C:\\Users\\Prashant\\Anaconda3\\lib\\site-packages\\sklearn\\ensemble\\forest.py:245: FutureWarning: The default value of n_estimators will change from 10 in version 0.20 to 100 in 0.22.\n",
      "  \"10 in version 0.20 to 100 in 0.22.\", FutureWarning)\n"
     ]
    }
   ],
   "source": [
    "eclf1 = VotingClassifier(estimators=[('lr', clf1), ('rf', clf2), ('gnb', clf3)],weights=[1,2,4], \n",
    "                         voting='soft')\n",
    "eclf1 = eclf1.fit(X_train, y_train)\n",
    "prediction = eclf1.predict(X_test)\n",
    "\n",
    "\n",
    "from sklearn.metrics import classification_report , confusion_matrix\n",
    "\n",
    "print(classification_report(y_test,prediction))\n",
    "print(confusion_matrix(y_test,prediction))"
   ]
  },
  {
   "cell_type": "code",
   "execution_count": 6,
   "metadata": {},
   "outputs": [
    {
     "name": "stdout",
     "output_type": "stream",
     "text": [
      "              precision    recall  f1-score   support\n",
      "\n",
      "           0       0.86      0.44      0.58        41\n",
      "           1       0.85      0.98      0.91       130\n",
      "\n",
      "    accuracy                           0.85       171\n",
      "   macro avg       0.85      0.71      0.74       171\n",
      "weighted avg       0.85      0.85      0.83       171\n",
      "\n",
      "\n",
      "\n",
      "[[ 18  23]\n",
      " [  3 127]]\n"
     ]
    },
    {
     "name": "stderr",
     "output_type": "stream",
     "text": [
      "C:\\Users\\Prashant\\Anaconda3\\lib\\site-packages\\sklearn\\linear_model\\logistic.py:432: FutureWarning: Default solver will be changed to 'lbfgs' in 0.22. Specify a solver to silence this warning.\n",
      "  FutureWarning)\n",
      "C:\\Users\\Prashant\\Anaconda3\\lib\\site-packages\\sklearn\\ensemble\\forest.py:245: FutureWarning: The default value of n_estimators will change from 10 in version 0.20 to 100 in 0.22.\n",
      "  \"10 in version 0.20 to 100 in 0.22.\", FutureWarning)\n"
     ]
    }
   ],
   "source": [
    "from sklearn.metrics import classification_report , confusion_matrix\n",
    "eclf2 = VotingClassifier(estimators=[('lr', clf1), ('rf', clf2), \n",
    "                                     ('gnb', clf3)], voting='soft')\n",
    "eclf2 = eclf2.fit(X_train, y_train)\n",
    "predict = eclf2.predict(X_test)\n",
    "print(classification_report(y_test, predict))\n",
    "print('\\n')\n",
    "print(confusion_matrix(y_test, predict))"
   ]
  },
  {
   "cell_type": "code",
   "execution_count": null,
   "metadata": {},
   "outputs": [],
   "source": []
  }
 ],
 "metadata": {
  "kernelspec": {
   "display_name": "Python 3",
   "language": "python",
   "name": "python3"
  },
  "language_info": {
   "codemirror_mode": {
    "name": "ipython",
    "version": 3
   },
   "file_extension": ".py",
   "mimetype": "text/x-python",
   "name": "python",
   "nbconvert_exporter": "python",
   "pygments_lexer": "ipython3",
   "version": "3.7.3"
  }
 },
 "nbformat": 4,
 "nbformat_minor": 2
}
